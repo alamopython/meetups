{
 "cells": [
  {
   "cell_type": "markdown",
   "metadata": {},
   "source": [
    "# SQLAlchemy\n",
    "\n",
    "## What is SQLAlchemy?\n",
    "\n",
    "From the website:\n",
    "\n",
    "> SQLAlchemy is the Python SQL toolkit and Object Relational Mapper that gives application developers the full power and flexibility of SQL.\n",
    "\n",
    "## Expand Your Acronyms\n",
    "\n",
    "### SQL\n",
    "\n",
    "Structured Query Language. Domain specific languate used to manage data in an RDBMS.  There is an ANSI standard, but pretty much all databases do their own thing.\n",
    "\n",
    "### RDBMS\n",
    "\n",
    "Relational database management system.  For example SQLite, PostgreSQL, MariaDB (MySQL), etc.\n",
    "\n",
    "## Using the SQLAlchemy ORM\n",
    "\n",
    "SQLAlchemy consists of two components:  SQLAlchemy Core and the SQLAlchemy ORM.\n",
    "\n",
    "### Version Check"
   ]
  },
  {
   "cell_type": "code",
   "execution_count": 1,
   "metadata": {
    "collapsed": false
   },
   "outputs": [
    {
     "name": "stdout",
     "output_type": "stream",
     "text": [
      "3.6.0 (default, Jan  4 2017, 14:51:27) \n",
      "[GCC 4.2.1 Compatible Apple LLVM 8.0.0 (clang-800.0.42.1)]\n"
     ]
    }
   ],
   "source": [
    "import sys\n",
    "print(sys.version)"
   ]
  },
  {
   "cell_type": "code",
   "execution_count": 2,
   "metadata": {
    "collapsed": false
   },
   "outputs": [
    {
     "name": "stdout",
     "output_type": "stream",
     "text": [
      "1.1.4\n"
     ]
    }
   ],
   "source": [
    "import sqlalchemy\n",
    "print(sqlalchemy.__version__)"
   ]
  },
  {
   "cell_type": "markdown",
   "metadata": {},
   "source": [
    "### Create an Engine\n",
    "\n",
    "In SQLAlchemy the Engine is the starting point for any application.  To create an engine you'll need a [Database URL](http://docs.sqlalchemy.org/en/rel_1_1/core/engines.html#database-urls) (aka connection string)."
   ]
  },
  {
   "cell_type": "code",
   "execution_count": 3,
   "metadata": {
    "collapsed": false
   },
   "outputs": [],
   "source": [
    "import os\n",
    "from sqlalchemy import create_engine\n",
    "\n",
    "engine = create_engine('sqlite:///:memory:', echo=True)\n",
    "\n",
    "# engine = create_engine('sqlite:///{!s}/data.sqlite3'.format(os.getcwd()))"
   ]
  },
  {
   "cell_type": "markdown",
   "metadata": {},
   "source": [
    "### Declaring a Mapping\n",
    "\n",
    "SQLAlchemy ORM uses a system known as *Declarative* to create Python classes and describe the database that they will be mapped to."
   ]
  },
  {
   "cell_type": "code",
   "execution_count": 4,
   "metadata": {
    "collapsed": true
   },
   "outputs": [],
   "source": [
    "from sqlalchemy.ext.declarative import declarative_base\n",
    "\n",
    "Base = declarative_base()"
   ]
  },
  {
   "cell_type": "code",
   "execution_count": 5,
   "metadata": {
    "collapsed": false
   },
   "outputs": [],
   "source": [
    "from sqlalchemy import Column, Date, Integer, String\n",
    "\n",
    "class Author(Base):\n",
    "    __tablename__ = 'authors'\n",
    "    \n",
    "    id = Column(Integer, primary_key=True)\n",
    "    first_name = Column(String)\n",
    "    last_name = Column(String, nullable=False)\n",
    "    birthdate = Column(Date)\n",
    "    \n",
    "    def __repr__(self):\n",
    "        return 'Author(first_name={!r}, last_name={!r}, birthdate={!r})'.\\\n",
    "            format(self.first_name, self.last_name, self.birthdate)"
   ]
  },
  {
   "cell_type": "markdown",
   "metadata": {},
   "source": [
    "### Creating the Schema"
   ]
  },
  {
   "cell_type": "code",
   "execution_count": 6,
   "metadata": {
    "collapsed": false
   },
   "outputs": [
    {
     "name": "stdout",
     "output_type": "stream",
     "text": [
      "2017-01-05 19:21:27,893 INFO sqlalchemy.engine.base.Engine SELECT CAST('test plain returns' AS VARCHAR(60)) AS anon_1\n",
      "2017-01-05 19:21:27,895 INFO sqlalchemy.engine.base.Engine ()\n",
      "2017-01-05 19:21:27,896 INFO sqlalchemy.engine.base.Engine SELECT CAST('test unicode returns' AS VARCHAR(60)) AS anon_1\n",
      "2017-01-05 19:21:27,897 INFO sqlalchemy.engine.base.Engine ()\n",
      "2017-01-05 19:21:27,898 INFO sqlalchemy.engine.base.Engine PRAGMA table_info(\"authors\")\n",
      "2017-01-05 19:21:27,899 INFO sqlalchemy.engine.base.Engine ()\n",
      "2017-01-05 19:21:27,901 INFO sqlalchemy.engine.base.Engine \n",
      "CREATE TABLE authors (\n",
      "\tid INTEGER NOT NULL, \n",
      "\tfirst_name VARCHAR, \n",
      "\tlast_name VARCHAR NOT NULL, \n",
      "\tbirthdate DATE, \n",
      "\tPRIMARY KEY (id)\n",
      ")\n",
      "\n",
      "\n",
      "2017-01-05 19:21:27,901 INFO sqlalchemy.engine.base.Engine ()\n",
      "2017-01-05 19:21:27,902 INFO sqlalchemy.engine.base.Engine COMMIT\n"
     ]
    }
   ],
   "source": [
    "Base.metadata.create_all(engine)"
   ]
  },
  {
   "cell_type": "markdown",
   "metadata": {},
   "source": [
    "### Creating instances of mapped classes"
   ]
  },
  {
   "cell_type": "code",
   "execution_count": 8,
   "metadata": {
    "collapsed": false
   },
   "outputs": [],
   "source": [
    "from datetime import date\n",
    "\n",
    "chuck = Author(first_name='Chuck', \n",
    "               last_name='Palahniuk', \n",
    "               birthdate=date(1962, 2, 21))"
   ]
  },
  {
   "cell_type": "code",
   "execution_count": 12,
   "metadata": {
    "collapsed": false
   },
   "outputs": [
    {
     "data": {
      "text/plain": [
       "True"
      ]
     },
     "execution_count": 12,
     "metadata": {},
     "output_type": "execute_result"
    }
   ],
   "source": [
    "chuck.id is None"
   ]
  },
  {
   "cell_type": "markdown",
   "metadata": {},
   "source": [
    "### Sessions\n",
    "\n",
    "SQLAlchemy docs call this the ORM's \"handle\" to the database."
   ]
  },
  {
   "cell_type": "code",
   "execution_count": 13,
   "metadata": {
    "collapsed": true
   },
   "outputs": [],
   "source": [
    "from sqlalchemy.orm import sessionmaker\n",
    "\n",
    "Session = sessionmaker(bind=engine)"
   ]
  },
  {
   "cell_type": "markdown",
   "metadata": {},
   "source": [
    "To save an instance of a mapped class we add it to an instance of a session"
   ]
  },
  {
   "cell_type": "code",
   "execution_count": 14,
   "metadata": {
    "collapsed": false
   },
   "outputs": [],
   "source": [
    "session = Session()\n",
    "session.add(chuck)"
   ]
  },
  {
   "cell_type": "markdown",
   "metadata": {},
   "source": [
    "At this point the instance is __pending__.  The session will issue the SQL when it's needed using a process known as __flush__."
   ]
  },
  {
   "cell_type": "code",
   "execution_count": 15,
   "metadata": {
    "collapsed": false
   },
   "outputs": [
    {
     "data": {
      "text/plain": [
       "True"
      ]
     },
     "execution_count": 15,
     "metadata": {},
     "output_type": "execute_result"
    }
   ],
   "source": [
    "chuck.id is None"
   ]
  },
  {
   "cell_type": "code",
   "execution_count": 16,
   "metadata": {
    "collapsed": false
   },
   "outputs": [
    {
     "data": {
      "text/plain": [
       "IdentitySet([Author(first_name='Chuck', last_name='Palahniuk', birthdate=datetime.date(1962, 2, 21))])"
      ]
     },
     "execution_count": 16,
     "metadata": {},
     "output_type": "execute_result"
    }
   ],
   "source": [
    "session.new"
   ]
  },
  {
   "cell_type": "markdown",
   "metadata": {},
   "source": [
    "Sessions sometimes flush automatically, for example when issuing a query:"
   ]
  },
  {
   "cell_type": "code",
   "execution_count": 17,
   "metadata": {
    "collapsed": false
   },
   "outputs": [
    {
     "name": "stdout",
     "output_type": "stream",
     "text": [
      "2017-01-05 19:27:43,960 INFO sqlalchemy.engine.base.Engine BEGIN (implicit)\n",
      "2017-01-05 19:27:43,964 INFO sqlalchemy.engine.base.Engine INSERT INTO authors (first_name, last_name, birthdate) VALUES (?, ?, ?)\n",
      "2017-01-05 19:27:43,965 INFO sqlalchemy.engine.base.Engine ('Chuck', 'Palahniuk', '1962-02-21')\n",
      "2017-01-05 19:27:43,966 INFO sqlalchemy.engine.base.Engine SELECT authors.id AS authors_id, authors.first_name AS authors_first_name, authors.last_name AS authors_last_name, authors.birthdate AS authors_birthdate \n",
      "FROM authors \n",
      "WHERE authors.first_name = ?\n",
      " LIMIT ? OFFSET ?\n",
      "2017-01-05 19:27:43,967 INFO sqlalchemy.engine.base.Engine ('Chuck', 1, 0)\n"
     ]
    }
   ],
   "source": [
    "queried_author = session.query(Author).\\\n",
    "    filter_by(first_name='Chuck').first()"
   ]
  },
  {
   "cell_type": "code",
   "execution_count": 18,
   "metadata": {
    "collapsed": false
   },
   "outputs": [
    {
     "data": {
      "text/plain": [
       "1"
      ]
     },
     "execution_count": 18,
     "metadata": {},
     "output_type": "execute_result"
    }
   ],
   "source": [
    "chuck.id"
   ]
  },
  {
   "cell_type": "code",
   "execution_count": 19,
   "metadata": {
    "collapsed": false
   },
   "outputs": [
    {
     "data": {
      "text/plain": [
       "True"
      ]
     },
     "execution_count": 19,
     "metadata": {},
     "output_type": "execute_result"
    }
   ],
   "source": [
    "queried_author is chuck"
   ]
  },
  {
   "cell_type": "code",
   "execution_count": 20,
   "metadata": {
    "collapsed": false
   },
   "outputs": [],
   "source": [
    "session.add_all([\n",
    "    Author(first_name='John', last_name='Steinbeck', birthdate=date(1902, 2, 27)),\n",
    "    Author(first_name='Philip', last_name='Dick', birthdate=date(1928, 12, 16)),\n",
    "    Author(first_name='Douglas', last_name='Adams', birthdate=date(1952, 3, 11))\n",
    "])"
   ]
  },
  {
   "cell_type": "code",
   "execution_count": 21,
   "metadata": {
    "collapsed": false
   },
   "outputs": [
    {
     "data": {
      "text/plain": [
       "IdentitySet([Author(first_name='John', last_name='Steinbeck', birthdate=datetime.date(1902, 2, 27)), Author(first_name='Philip', last_name='Dick', birthdate=datetime.date(1928, 12, 16)), Author(first_name='Douglas', last_name='Adams', birthdate=datetime.date(1952, 3, 11))])"
      ]
     },
     "execution_count": 21,
     "metadata": {},
     "output_type": "execute_result"
    }
   ],
   "source": [
    "session.new"
   ]
  },
  {
   "cell_type": "markdown",
   "metadata": {},
   "source": [
    "Updating instances"
   ]
  },
  {
   "cell_type": "code",
   "execution_count": 22,
   "metadata": {
    "collapsed": false
   },
   "outputs": [],
   "source": [
    "chuck.first_name = 'Charles'"
   ]
  },
  {
   "cell_type": "code",
   "execution_count": 23,
   "metadata": {
    "collapsed": false
   },
   "outputs": [
    {
     "data": {
      "text/plain": [
       "IdentitySet([Author(first_name='Charles', last_name='Palahniuk', birthdate=datetime.date(1962, 2, 21))])"
      ]
     },
     "execution_count": 23,
     "metadata": {},
     "output_type": "execute_result"
    }
   ],
   "source": [
    "session.dirty"
   ]
  },
  {
   "cell_type": "code",
   "execution_count": 24,
   "metadata": {
    "collapsed": false
   },
   "outputs": [
    {
     "name": "stdout",
     "output_type": "stream",
     "text": [
      "2017-01-05 19:29:54,791 INFO sqlalchemy.engine.base.Engine UPDATE authors SET first_name=? WHERE authors.id = ?\n",
      "2017-01-05 19:29:54,793 INFO sqlalchemy.engine.base.Engine ('Charles', 1)\n",
      "2017-01-05 19:29:54,794 INFO sqlalchemy.engine.base.Engine INSERT INTO authors (first_name, last_name, birthdate) VALUES (?, ?, ?)\n",
      "2017-01-05 19:29:54,795 INFO sqlalchemy.engine.base.Engine ('John', 'Steinbeck', '1902-02-27')\n",
      "2017-01-05 19:29:54,796 INFO sqlalchemy.engine.base.Engine INSERT INTO authors (first_name, last_name, birthdate) VALUES (?, ?, ?)\n",
      "2017-01-05 19:29:54,796 INFO sqlalchemy.engine.base.Engine ('Philip', 'Dick', '1928-12-16')\n",
      "2017-01-05 19:29:54,798 INFO sqlalchemy.engine.base.Engine INSERT INTO authors (first_name, last_name, birthdate) VALUES (?, ?, ?)\n",
      "2017-01-05 19:29:54,798 INFO sqlalchemy.engine.base.Engine ('Douglas', 'Adams', '1952-03-11')\n",
      "2017-01-05 19:29:54,800 INFO sqlalchemy.engine.base.Engine COMMIT\n"
     ]
    }
   ],
   "source": [
    "session.commit()"
   ]
  },
  {
   "cell_type": "markdown",
   "metadata": {},
   "source": [
    "Sessions can also be rolled back to undo any changes that have not been commited."
   ]
  },
  {
   "cell_type": "code",
   "execution_count": 25,
   "metadata": {
    "collapsed": true
   },
   "outputs": [],
   "source": [
    "poe = Author(first_name='Edgar', last_name='Poe', birthdate=date(1809, 1, 19))\n",
    "session.add(poe)"
   ]
  },
  {
   "cell_type": "code",
   "execution_count": 26,
   "metadata": {
    "collapsed": true
   },
   "outputs": [],
   "source": [
    "chuck.first_name = 'Something Silly'"
   ]
  },
  {
   "cell_type": "code",
   "execution_count": 27,
   "metadata": {
    "collapsed": false
   },
   "outputs": [],
   "source": [
    "session.rollback()"
   ]
  },
  {
   "cell_type": "code",
   "execution_count": 28,
   "metadata": {
    "collapsed": false
   },
   "outputs": [
    {
     "name": "stdout",
     "output_type": "stream",
     "text": [
      "2017-01-05 19:31:38,114 INFO sqlalchemy.engine.base.Engine BEGIN (implicit)\n",
      "2017-01-05 19:31:38,116 INFO sqlalchemy.engine.base.Engine SELECT authors.id AS authors_id, authors.first_name AS authors_first_name, authors.last_name AS authors_last_name, authors.birthdate AS authors_birthdate \n",
      "FROM authors \n",
      "WHERE authors.id = ?\n",
      "2017-01-05 19:31:38,117 INFO sqlalchemy.engine.base.Engine (1,)\n"
     ]
    },
    {
     "data": {
      "text/plain": [
       "'Charles'"
      ]
     },
     "execution_count": 28,
     "metadata": {},
     "output_type": "execute_result"
    }
   ],
   "source": [
    "chuck.first_name"
   ]
  },
  {
   "cell_type": "code",
   "execution_count": 29,
   "metadata": {
    "collapsed": false
   },
   "outputs": [
    {
     "data": {
      "text/plain": [
       "False"
      ]
     },
     "execution_count": 29,
     "metadata": {},
     "output_type": "execute_result"
    }
   ],
   "source": [
    "poe in session"
   ]
  },
  {
   "cell_type": "markdown",
   "metadata": {},
   "source": [
    "### Querying\n",
    "\n",
    "You can query using Classes:"
   ]
  },
  {
   "cell_type": "code",
   "execution_count": 31,
   "metadata": {
    "collapsed": false
   },
   "outputs": [
    {
     "name": "stdout",
     "output_type": "stream",
     "text": [
      "2017-01-05 19:32:52,618 INFO sqlalchemy.engine.base.Engine SELECT authors.id AS authors_id, authors.first_name AS authors_first_name, authors.last_name AS authors_last_name, authors.birthdate AS authors_birthdate \n",
      "FROM authors ORDER BY authors.last_name\n",
      "2017-01-05 19:32:52,620 INFO sqlalchemy.engine.base.Engine ()\n",
      "Author(first_name='Douglas', last_name='Adams', birthdate=datetime.date(1952, 3, 11))\n",
      "Author(first_name='Philip', last_name='Dick', birthdate=datetime.date(1928, 12, 16))\n",
      "Author(first_name='Charles', last_name='Palahniuk', birthdate=datetime.date(1962, 2, 21))\n",
      "Author(first_name='John', last_name='Steinbeck', birthdate=datetime.date(1902, 2, 27))\n"
     ]
    }
   ],
   "source": [
    "for instance in session.query(Author).order_by(Author.last_name):\n",
    "    print(instance)"
   ]
  },
  {
   "cell_type": "markdown",
   "metadata": {},
   "source": [
    "You can query using ORM-Instrumented descriptors:"
   ]
  },
  {
   "cell_type": "code",
   "execution_count": 32,
   "metadata": {
    "collapsed": false
   },
   "outputs": [
    {
     "name": "stdout",
     "output_type": "stream",
     "text": [
      "2017-01-05 19:34:35,212 INFO sqlalchemy.engine.base.Engine SELECT authors.first_name AS authors_first_name, authors.last_name AS authors_last_name \n",
      "FROM authors\n",
      "2017-01-05 19:34:35,214 INFO sqlalchemy.engine.base.Engine ()\n",
      "Charles Palahniuk\n",
      "John Steinbeck\n",
      "Philip Dick\n",
      "Douglas Adams\n"
     ]
    }
   ],
   "source": [
    "for first, last in session.query(Author.first_name, Author.last_name):\n",
    "    print(first, last)"
   ]
  },
  {
   "cell_type": "code",
   "execution_count": 35,
   "metadata": {
    "collapsed": false
   },
   "outputs": [
    {
     "name": "stdout",
     "output_type": "stream",
     "text": [
      "2017-01-05 19:35:55,596 INFO sqlalchemy.engine.base.Engine SELECT authors.id AS authors_id, authors.first_name AS authors_first_name, authors.last_name AS authors_last_name, authors.birthdate AS authors_birthdate \n",
      "FROM authors \n",
      "WHERE authors.last_name = ?\n",
      "2017-01-05 19:35:55,597 INFO sqlalchemy.engine.base.Engine ('Adams',)\n"
     ]
    },
    {
     "data": {
      "text/plain": [
       "Author(first_name='Douglas', last_name='Adams', birthdate=datetime.date(1952, 3, 11))"
      ]
     },
     "execution_count": 35,
     "metadata": {},
     "output_type": "execute_result"
    }
   ],
   "source": [
    "session.query(Author).filter(Author.last_name == 'Adams').one()"
   ]
  },
  {
   "cell_type": "code",
   "execution_count": 39,
   "metadata": {
    "collapsed": false
   },
   "outputs": [
    {
     "name": "stdout",
     "output_type": "stream",
     "text": [
      "2017-01-05 19:38:04,760 INFO sqlalchemy.engine.base.Engine SELECT authors.id AS authors_id, authors.first_name AS authors_first_name, authors.last_name AS authors_last_name, authors.birthdate AS authors_birthdate \n",
      "FROM authors \n",
      "WHERE authors.last_name LIKE ? ORDER BY authors.last_name\n",
      "2017-01-05 19:38:04,762 INFO sqlalchemy.engine.base.Engine ('%ck',)\n"
     ]
    },
    {
     "data": {
      "text/plain": [
       "[Author(first_name='Philip', last_name='Dick', birthdate=datetime.date(1928, 12, 16)),\n",
       " Author(first_name='John', last_name='Steinbeck', birthdate=datetime.date(1902, 2, 27))]"
      ]
     },
     "execution_count": 39,
     "metadata": {},
     "output_type": "execute_result"
    }
   ],
   "source": [
    "session.query(Author).filter(Author.last_name.like('%ck')).\\\n",
    "    order_by(Author.last_name).all()"
   ]
  },
  {
   "cell_type": "markdown",
   "metadata": {},
   "source": [
    "### Building relationships"
   ]
  },
  {
   "cell_type": "code",
   "execution_count": 40,
   "metadata": {
    "collapsed": true
   },
   "outputs": [],
   "source": [
    "from sqlalchemy import ForeignKey\n",
    "from sqlalchemy.orm import relationship\n",
    "\n",
    "class Book(Base):\n",
    "    __tablename__ = 'books'\n",
    "    \n",
    "    id = Column(Integer, primary_key=True)\n",
    "    title = Column(String, nullable=False)\n",
    "    author_id = Column(Integer, ForeignKey('authors.id'))\n",
    "    \n",
    "    author = relationship(\"Author\", back_populates=\"books\")\n",
    "    \n",
    "    def __repr__(self):\n",
    "        return 'Book(title={!r})'.format(self.title)\n",
    "    \n",
    "Author.books = relationship('Book', order_by=Book.id, \n",
    "                            back_populates='author')"
   ]
  },
  {
   "cell_type": "code",
   "execution_count": 41,
   "metadata": {
    "collapsed": false
   },
   "outputs": [
    {
     "name": "stdout",
     "output_type": "stream",
     "text": [
      "2017-01-05 19:41:51,060 INFO sqlalchemy.engine.base.Engine PRAGMA table_info(\"authors\")\n",
      "2017-01-05 19:41:51,062 INFO sqlalchemy.engine.base.Engine ()\n",
      "2017-01-05 19:41:51,063 INFO sqlalchemy.engine.base.Engine PRAGMA table_info(\"books\")\n",
      "2017-01-05 19:41:51,064 INFO sqlalchemy.engine.base.Engine ()\n",
      "2017-01-05 19:41:51,065 INFO sqlalchemy.engine.base.Engine \n",
      "CREATE TABLE books (\n",
      "\tid INTEGER NOT NULL, \n",
      "\ttitle VARCHAR NOT NULL, \n",
      "\tauthor_id INTEGER, \n",
      "\tPRIMARY KEY (id), \n",
      "\tFOREIGN KEY(author_id) REFERENCES authors (id)\n",
      ")\n",
      "\n",
      "\n",
      "2017-01-05 19:41:51,066 INFO sqlalchemy.engine.base.Engine ()\n",
      "2017-01-05 19:41:51,067 INFO sqlalchemy.engine.base.Engine COMMIT\n"
     ]
    }
   ],
   "source": [
    "Base.metadata.create_all(engine)"
   ]
  },
  {
   "cell_type": "code",
   "execution_count": 42,
   "metadata": {
    "collapsed": true
   },
   "outputs": [],
   "source": [
    "bram = Author(first_name='Bram', \n",
    "              last_name='Stoker', \n",
    "              birthdate=date(1847, 11, 8))"
   ]
  },
  {
   "cell_type": "code",
   "execution_count": 43,
   "metadata": {
    "collapsed": false
   },
   "outputs": [
    {
     "data": {
      "text/plain": [
       "[]"
      ]
     },
     "execution_count": 43,
     "metadata": {},
     "output_type": "execute_result"
    }
   ],
   "source": [
    "bram.books"
   ]
  },
  {
   "cell_type": "code",
   "execution_count": 44,
   "metadata": {
    "collapsed": true
   },
   "outputs": [],
   "source": [
    "bram.books = [Book(title='Dracula')]"
   ]
  },
  {
   "cell_type": "code",
   "execution_count": 50,
   "metadata": {
    "collapsed": false
   },
   "outputs": [
    {
     "data": {
      "text/plain": [
       "Author(first_name='Bram', last_name='Stoker', birthdate=datetime.date(1847, 11, 8))"
      ]
     },
     "execution_count": 50,
     "metadata": {},
     "output_type": "execute_result"
    }
   ],
   "source": [
    "the_book = bram.books[0]\n",
    "the_book.author"
   ]
  },
  {
   "cell_type": "code",
   "execution_count": 51,
   "metadata": {
    "collapsed": false
   },
   "outputs": [
    {
     "name": "stdout",
     "output_type": "stream",
     "text": [
      "2017-01-05 19:44:43,456 INFO sqlalchemy.engine.base.Engine INSERT INTO authors (first_name, last_name, birthdate) VALUES (?, ?, ?)\n",
      "2017-01-05 19:44:43,457 INFO sqlalchemy.engine.base.Engine ('Bram', 'Stoker', '1847-11-08')\n",
      "2017-01-05 19:44:43,460 INFO sqlalchemy.engine.base.Engine INSERT INTO books (title, author_id) VALUES (?, ?)\n",
      "2017-01-05 19:44:43,460 INFO sqlalchemy.engine.base.Engine ('Dracula', 5)\n",
      "2017-01-05 19:44:43,462 INFO sqlalchemy.engine.base.Engine COMMIT\n"
     ]
    }
   ],
   "source": [
    "session.add(bram)\n",
    "session.commit()"
   ]
  },
  {
   "cell_type": "code",
   "execution_count": 52,
   "metadata": {
    "collapsed": false
   },
   "outputs": [
    {
     "name": "stdout",
     "output_type": "stream",
     "text": [
      "2017-01-05 19:45:04,328 INFO sqlalchemy.engine.base.Engine BEGIN (implicit)\n",
      "2017-01-05 19:45:04,329 INFO sqlalchemy.engine.base.Engine SELECT authors.id AS authors_id, authors.first_name AS authors_first_name, authors.last_name AS authors_last_name, authors.birthdate AS authors_birthdate \n",
      "FROM authors \n",
      "WHERE authors.first_name = ?\n",
      "2017-01-05 19:45:04,330 INFO sqlalchemy.engine.base.Engine ('Bram',)\n"
     ]
    }
   ],
   "source": [
    "bram = session.query(Author).filter_by(first_name='Bram').one()"
   ]
  },
  {
   "cell_type": "code",
   "execution_count": 59,
   "metadata": {
    "collapsed": false
   },
   "outputs": [
    {
     "name": "stdout",
     "output_type": "stream",
     "text": [
      "2017-01-05 19:53:35,193 INFO sqlalchemy.engine.base.Engine SELECT authors.id AS authors_id, authors.first_name AS authors_first_name, authors.last_name AS authors_last_name, authors.birthdate AS authors_birthdate, books.id AS books_id, books.title AS books_title, books.author_id AS books_author_id \n",
      "FROM authors, books \n",
      "WHERE authors.id = books.author_id\n",
      "2017-01-05 19:53:35,194 INFO sqlalchemy.engine.base.Engine ()\n"
     ]
    },
    {
     "data": {
      "text/plain": [
       "[(Author(first_name='Bram', last_name='Stoker', birthdate=datetime.date(1847, 11, 8)),\n",
       "  Book(title='Dracula'))]"
      ]
     },
     "execution_count": 59,
     "metadata": {},
     "output_type": "execute_result"
    }
   ],
   "source": [
    "session.query(Author, Book).filter(Author.id == Book.author_id).all()"
   ]
  },
  {
   "cell_type": "code",
   "execution_count": null,
   "metadata": {
    "collapsed": true
   },
   "outputs": [],
   "source": [
    "session.query(Author)"
   ]
  }
 ],
 "metadata": {
  "kernelspec": {
   "display_name": "Python 3",
   "language": "python",
   "name": "python3"
  },
  "language_info": {
   "codemirror_mode": {
    "name": "ipython",
    "version": 3
   },
   "file_extension": ".py",
   "mimetype": "text/x-python",
   "name": "python",
   "nbconvert_exporter": "python",
   "pygments_lexer": "ipython3",
   "version": "3.6.0"
  }
 },
 "nbformat": 4,
 "nbformat_minor": 2
}
